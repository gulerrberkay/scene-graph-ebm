{
 "cells": [
  {
   "cell_type": "code",
   "execution_count": 4,
   "metadata": {},
   "outputs": [],
   "source": [
    "import json\n",
    "import random\n",
    "import colorsys\n",
    "from PIL import Image\n",
    "import matplotlib.pyplot as plt\n",
    "from matplotlib import patches,  lines\n",
    "import numpy as np\n",
    "import IPython.display"
   ]
  },
  {
   "cell_type": "code",
   "execution_count": 22,
   "metadata": {},
   "outputs": [],
   "source": [
    "infos_gt = json.load(open(r'C:\\Users\\berka\\Desktop\\thesis\\codebase\\scene-graph-ebm\\output\\results\\gt_sg.json'))\n",
    "infos_prediction = json.load(open(r'C:\\Users\\berka\\Desktop\\thesis\\codebase\\scene-graph-ebm\\output\\results\\predicted_sg.json'))\n"
   ]
  },
  {
   "cell_type": "code",
   "execution_count": 55,
   "metadata": {},
   "outputs": [
    {
     "name": "stdout",
     "output_type": "stream",
     "text": [
      "[{'entities': ['boy', 'door', 'hair', 'hand', 'hand', 'jacket', 'plate', 'pizza', 'child', 'table', 'boy', 'table'], 'relations': [[8, 7, 'eat'], [0, 2, 'have'], [0, 5, 'wear'], [0, 7, 'eat'], [4, 7, 'hold'], [3, 7, 'hold'], [0, 7, 'eat'], [0, 5, 'wear'], [2, 0, 'on'], [10, 5, 'wear']]}]\n",
      "[{'entities': ['hand', 'head', 'hand', 'nose', 'plate', 'hair', 'sign', 'eye', 'pizza', 'shirt', 'table', 'face', 'window', 'door', 'jacket', 'sign', 'window', 'shirt', 'arm', 'window', 'man', 'building', 'building', 'pot', 'bag', 'table', 'table', 'plant', 'sign', 'boy'], 'relations': [[2, 8, 'hold'], [4, 1, 'on'], [4, 26, 'on'], [8, 4, 'on'], [8, 26, 'on'], [15, 26, 'on'], [20, 1, 'have'], [20, 2, 'have'], [20, 3, 'have'], [20, 5, 'have'], [20, 8, 'hold'], [20, 9, 'wear'], [20, 17, 'wear'], [20, 18, 'have'], [23, 26, 'on'], [27, 26, 'on'], [29, 2, 'have'], [29, 3, 'have'], [29, 5, 'have'], [29, 8, 'eat']]}]\n"
     ]
    }
   ],
   "source": [
    "print(infos_gt['186056'])\n",
    "print(infos_prediction['186056'])"
   ]
  },
  {
   "cell_type": "code",
   "execution_count": 57,
   "metadata": {},
   "outputs": [],
   "source": [
    "predicate = 'cover in'\n",
    "for i, info in enumerate(infos_prediction):\n",
    "    entities_GT = infos_gt[info][0]['entities']\n",
    "    rels_GT     = infos_gt[info][0]['relations']\n",
    "    entities    = infos_prediction[info][0]['entities']\n",
    "    rels        = infos_prediction[info][0]['relations']\n",
    "    \n",
    "    # print(rels_GT)\n",
    "    # print(rels)\n",
    "\n",
    "    for triplet_GT in rels_GT:\n",
    "        if triplet_GT[2] == predicate:\n",
    "            for triplet in rels:\n",
    "                if  triplet[2]==predicate:\n",
    "                    print(info)\n",
    "\n",
    "    if i == 30000:\n",
    "        break"
   ]
  },
  {
   "cell_type": "code",
   "execution_count": 19,
   "metadata": {},
   "outputs": [
    {
     "name": "stdout",
     "output_type": "stream",
     "text": [
      "2335620\n"
     ]
    }
   ],
   "source": [
    "def img_coco_mapping():\n",
    "    img_coco_map = {}\n",
    "    for img_id, coco_id in zip(cap_graph['vg_image_ids'], cap_graph['vg_coco_ids']):\n",
    "        img_coco_map[int(img_id)] = int(coco_id)\n",
    "    return img_coco_map\n",
    "\n",
    "cap_graph = json.load(open(r'C:\\Users\\berka\\Desktop\\thesis\\codebase\\scene-graph-ebm\\maskrcnn_benchmark\\data\\datasets\\evaluation\\vg\\vg_capgraphs_anno.json')) \n",
    "img_coco  = img_coco_mapping()\n",
    "for k in img_coco:\n",
    "    if img_coco[k]==186056:\n",
    "        print(k)\n"
   ]
  }
 ],
 "metadata": {
  "kernelspec": {
   "display_name": "Python 3",
   "language": "python",
   "name": "python3"
  },
  "language_info": {
   "codemirror_mode": {
    "name": "ipython",
    "version": 3
   },
   "file_extension": ".py",
   "mimetype": "text/x-python",
   "name": "python",
   "nbconvert_exporter": "python",
   "pygments_lexer": "ipython3",
   "version": "3.10.10"
  },
  "orig_nbformat": 4
 },
 "nbformat": 4,
 "nbformat_minor": 2
}
